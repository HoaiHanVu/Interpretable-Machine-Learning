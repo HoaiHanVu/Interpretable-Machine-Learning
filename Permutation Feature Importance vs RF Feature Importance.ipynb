{
 "cells": [
  {
   "cell_type": "code",
   "execution_count": 1,
   "id": "d200001d",
   "metadata": {},
   "outputs": [
    {
     "name": "stdout",
     "output_type": "stream",
     "text": [
      "importing Jupyter notebook from /Users/admin/Desktop/Adaptive Engine/Lib/Functions.ipynb\n"
     ]
    }
   ],
   "source": [
    "import numpy as np\n",
    "import pandas as pd\n",
    "import matplotlib.pyplot as plt\n",
    "import seaborn as sb\n",
    "import warnings\n",
    "import import_ipynb\n",
    "import Lib.Functions as fc\n",
    "warnings.filterwarnings('ignore')"
   ]
  },
  {
   "cell_type": "code",
   "execution_count": 2,
   "id": "32411053",
   "metadata": {},
   "outputs": [
    {
     "data": {
      "text/html": [
       "<div>\n",
       "<style scoped>\n",
       "    .dataframe tbody tr th:only-of-type {\n",
       "        vertical-align: middle;\n",
       "    }\n",
       "\n",
       "    .dataframe tbody tr th {\n",
       "        vertical-align: top;\n",
       "    }\n",
       "\n",
       "    .dataframe thead th {\n",
       "        text-align: right;\n",
       "    }\n",
       "</style>\n",
       "<table border=\"1\" class=\"dataframe\">\n",
       "  <thead>\n",
       "    <tr style=\"text-align: right;\">\n",
       "      <th></th>\n",
       "      <th>PassengerId</th>\n",
       "      <th>Survived</th>\n",
       "      <th>Pclass</th>\n",
       "      <th>Name</th>\n",
       "      <th>Sex</th>\n",
       "      <th>Age</th>\n",
       "      <th>SibSp</th>\n",
       "      <th>Parch</th>\n",
       "      <th>Ticket</th>\n",
       "      <th>Fare</th>\n",
       "      <th>Cabin</th>\n",
       "      <th>Embarked</th>\n",
       "    </tr>\n",
       "  </thead>\n",
       "  <tbody>\n",
       "    <tr>\n",
       "      <th>0</th>\n",
       "      <td>1</td>\n",
       "      <td>0</td>\n",
       "      <td>3</td>\n",
       "      <td>Braund, Mr. Owen Harris</td>\n",
       "      <td>male</td>\n",
       "      <td>22.0</td>\n",
       "      <td>1</td>\n",
       "      <td>0</td>\n",
       "      <td>A/5 21171</td>\n",
       "      <td>7.2500</td>\n",
       "      <td>NaN</td>\n",
       "      <td>S</td>\n",
       "    </tr>\n",
       "    <tr>\n",
       "      <th>1</th>\n",
       "      <td>2</td>\n",
       "      <td>1</td>\n",
       "      <td>1</td>\n",
       "      <td>Cumings, Mrs. John Bradley (Florence Briggs Th...</td>\n",
       "      <td>female</td>\n",
       "      <td>38.0</td>\n",
       "      <td>1</td>\n",
       "      <td>0</td>\n",
       "      <td>PC 17599</td>\n",
       "      <td>71.2833</td>\n",
       "      <td>C85</td>\n",
       "      <td>C</td>\n",
       "    </tr>\n",
       "    <tr>\n",
       "      <th>2</th>\n",
       "      <td>3</td>\n",
       "      <td>1</td>\n",
       "      <td>3</td>\n",
       "      <td>Heikkinen, Miss. Laina</td>\n",
       "      <td>female</td>\n",
       "      <td>26.0</td>\n",
       "      <td>0</td>\n",
       "      <td>0</td>\n",
       "      <td>STON/O2. 3101282</td>\n",
       "      <td>7.9250</td>\n",
       "      <td>NaN</td>\n",
       "      <td>S</td>\n",
       "    </tr>\n",
       "    <tr>\n",
       "      <th>3</th>\n",
       "      <td>4</td>\n",
       "      <td>1</td>\n",
       "      <td>1</td>\n",
       "      <td>Futrelle, Mrs. Jacques Heath (Lily May Peel)</td>\n",
       "      <td>female</td>\n",
       "      <td>35.0</td>\n",
       "      <td>1</td>\n",
       "      <td>0</td>\n",
       "      <td>113803</td>\n",
       "      <td>53.1000</td>\n",
       "      <td>C123</td>\n",
       "      <td>S</td>\n",
       "    </tr>\n",
       "    <tr>\n",
       "      <th>4</th>\n",
       "      <td>5</td>\n",
       "      <td>0</td>\n",
       "      <td>3</td>\n",
       "      <td>Allen, Mr. William Henry</td>\n",
       "      <td>male</td>\n",
       "      <td>35.0</td>\n",
       "      <td>0</td>\n",
       "      <td>0</td>\n",
       "      <td>373450</td>\n",
       "      <td>8.0500</td>\n",
       "      <td>NaN</td>\n",
       "      <td>S</td>\n",
       "    </tr>\n",
       "  </tbody>\n",
       "</table>\n",
       "</div>"
      ],
      "text/plain": [
       "   PassengerId  Survived  Pclass  \\\n",
       "0            1         0       3   \n",
       "1            2         1       1   \n",
       "2            3         1       3   \n",
       "3            4         1       1   \n",
       "4            5         0       3   \n",
       "\n",
       "                                                Name     Sex   Age  SibSp  \\\n",
       "0                            Braund, Mr. Owen Harris    male  22.0      1   \n",
       "1  Cumings, Mrs. John Bradley (Florence Briggs Th...  female  38.0      1   \n",
       "2                             Heikkinen, Miss. Laina  female  26.0      0   \n",
       "3       Futrelle, Mrs. Jacques Heath (Lily May Peel)  female  35.0      1   \n",
       "4                           Allen, Mr. William Henry    male  35.0      0   \n",
       "\n",
       "   Parch            Ticket     Fare Cabin Embarked  \n",
       "0      0         A/5 21171   7.2500   NaN        S  \n",
       "1      0          PC 17599  71.2833   C85        C  \n",
       "2      0  STON/O2. 3101282   7.9250   NaN        S  \n",
       "3      0            113803  53.1000  C123        S  \n",
       "4      0            373450   8.0500   NaN        S  "
      ]
     },
     "execution_count": 2,
     "metadata": {},
     "output_type": "execute_result"
    }
   ],
   "source": [
    "df = pd.read_csv('titanic.csv')\n",
    "df.head()"
   ]
  },
  {
   "cell_type": "code",
   "execution_count": 3,
   "id": "f9931398",
   "metadata": {},
   "outputs": [],
   "source": [
    "label = 'Survived'\n",
    "selected_cols = ['Pclass', 'Sex', 'Age', 'SibSp', 'Parch', 'Fare', 'Embarked']"
   ]
  },
  {
   "cell_type": "code",
   "execution_count": 4,
   "id": "95a3b821",
   "metadata": {},
   "outputs": [],
   "source": [
    "null_row = df.loc[df['Embarked'].isnull()].index.tolist()\n",
    "df = df.drop(null_row)"
   ]
  },
  {
   "cell_type": "code",
   "execution_count": 5,
   "id": "c79a1bd5",
   "metadata": {},
   "outputs": [],
   "source": [
    "rnd = np.random.RandomState(seed = 42)\n",
    "\n",
    "df['Random_num'] = rnd.randn(df.shape[0])\n",
    "df['Random_cat'] = rnd.randint(3, size = df.shape[0])"
   ]
  },
  {
   "cell_type": "code",
   "execution_count": 6,
   "id": "911e3115",
   "metadata": {},
   "outputs": [
    {
     "data": {
      "text/plain": [
       "1    314\n",
       "0    295\n",
       "2    280\n",
       "Name: Random_cat, dtype: int64"
      ]
     },
     "execution_count": 6,
     "metadata": {},
     "output_type": "execute_result"
    }
   ],
   "source": [
    "df['Random_cat'].value_counts()"
   ]
  },
  {
   "cell_type": "code",
   "execution_count": 7,
   "id": "6584cb57",
   "metadata": {
    "scrolled": false
   },
   "outputs": [
    {
     "name": "stdout",
     "output_type": "stream",
     "text": [
      "----- Random_num -----\n",
      "count    889.000000\n",
      "mean       0.010657\n",
      "std        0.981835\n",
      "min       -3.241267\n",
      "25%       -0.651836\n",
      "50%        0.012592\n",
      "75%        0.633919\n",
      "max        3.852731\n",
      "Name: Random_num, dtype: float64\n",
      "* Median: 0.01259240078179486\n",
      "* Skewness: 0.16153895824894116\n",
      "* Kurtosis: 0.12116687063029463\n",
      "* Percentage of outliers: 0.010123734533183352\n",
      "* Number of missing value: 0\n"
     ]
    },
    {
     "data": {
      "image/png": "[encoded data removed]",
      "text/plain": [
       "<Figure size 576x432 with 2 Axes>"
      ]
     },
     "metadata": {
      "needs_background": "light"
     },
     "output_type": "display_data"
    },
    {
     "name": "stdout",
     "output_type": "stream",
     "text": [
      "\n"
     ]
    }
   ],
   "source": [
    "fc.continuous_analysis(df, 'Random_num')"
   ]
  },
  {
   "cell_type": "code",
   "execution_count": 8,
   "id": "575eed22",
   "metadata": {},
   "outputs": [],
   "source": [
    "X = df[selected_cols + ['Random_num'] + ['Random_cat']]\n",
    "y = df[label]"
   ]
  },
  {
   "cell_type": "code",
   "execution_count": 9,
   "id": "fa7eeb5c",
   "metadata": {},
   "outputs": [],
   "source": [
    "X.loc[X['Age'].isnull(), 'Age'] = np.round(X['Age'].mean(), 2)"
   ]
  },
  {
   "cell_type": "code",
   "execution_count": 10,
   "id": "3f02b0e9",
   "metadata": {},
   "outputs": [],
   "source": [
    "X['Sex'] = X['Sex'].map(lambda x: 0 if x == 'female' else 1)"
   ]
  },
  {
   "cell_type": "code",
   "execution_count": 11,
   "id": "fc451e25",
   "metadata": {},
   "outputs": [],
   "source": [
    "def transform(x):\n",
    "    if x == 'Q':\n",
    "        return 0\n",
    "    elif x == 'C':\n",
    "        return 1\n",
    "    else:\n",
    "        return 2"
   ]
  },
  {
   "cell_type": "code",
   "execution_count": 12,
   "id": "74065ea4",
   "metadata": {},
   "outputs": [],
   "source": [
    "X['Embarked'] = X['Embarked'].map(lambda x: transform(x))"
   ]
  },
  {
   "cell_type": "code",
   "execution_count": 13,
   "id": "07ed5f94",
   "metadata": {},
   "outputs": [
    {
     "data": {
      "text/plain": [
       "0    549\n",
       "1    340\n",
       "Name: Survived, dtype: int64"
      ]
     },
     "execution_count": 13,
     "metadata": {},
     "output_type": "execute_result"
    }
   ],
   "source": [
    "y.value_counts()"
   ]
  },
  {
   "cell_type": "code",
   "execution_count": 14,
   "id": "575805fa",
   "metadata": {},
   "outputs": [],
   "source": [
    "from sklearn.model_selection import train_test_split, cross_val_score\n",
    "\n",
    "X_train, X_test, y_train, y_test = train_test_split(X, y, stratify = y, test_size = 0.2, random_state = 42)"
   ]
  },
  {
   "cell_type": "code",
   "execution_count": 15,
   "id": "ca658018",
   "metadata": {},
   "outputs": [
    {
     "data": {
      "text/plain": [
       "1.0"
      ]
     },
     "execution_count": 15,
     "metadata": {},
     "output_type": "execute_result"
    }
   ],
   "source": [
    "from sklearn.ensemble import RandomForestClassifier\n",
    "\n",
    "forest = RandomForestClassifier(random_state = 42)\n",
    "forest_clf = forest.fit(X_train, y_train)\n",
    "\n",
    "forest_clf.score(X_train, y_train)"
   ]
  },
  {
   "cell_type": "code",
   "execution_count": 16,
   "id": "8b5c8d69",
   "metadata": {},
   "outputs": [
    {
     "name": "stdout",
     "output_type": "stream",
     "text": [
      "----- CLASSIFICATION MODEL PREFOMANCE IN TEST SET-----\n",
      "* R-squared model of Test: 0.8258\n",
      "\n",
      "* Confusion Matrix of Test: \n",
      "[[97 13]\n",
      " [18 50]]\n",
      "\n",
      "* Classification Report of Test: \n",
      "              precision    recall  f1-score   support\n",
      "\n",
      "           0       0.84      0.88      0.86       110\n",
      "           1       0.79      0.74      0.76        68\n",
      "\n",
      "    accuracy                           0.83       178\n",
      "   macro avg       0.82      0.81      0.81       178\n",
      "weighted avg       0.82      0.83      0.82       178\n",
      "\n"
     ]
    }
   ],
   "source": [
    "fc.eval_clf_testset(forest_clf, X_test, y_test)"
   ]
  },
  {
   "cell_type": "code",
   "execution_count": 17,
   "id": "03080780",
   "metadata": {},
   "outputs": [
    {
     "data": {
      "text/html": [
       "<div>\n",
       "<style scoped>\n",
       "    .dataframe tbody tr th:only-of-type {\n",
       "        vertical-align: middle;\n",
       "    }\n",
       "\n",
       "    .dataframe tbody tr th {\n",
       "        vertical-align: top;\n",
       "    }\n",
       "\n",
       "    .dataframe thead th {\n",
       "        text-align: right;\n",
       "    }\n",
       "</style>\n",
       "<table border=\"1\" class=\"dataframe\">\n",
       "  <thead>\n",
       "    <tr style=\"text-align: right;\">\n",
       "      <th></th>\n",
       "      <th>Features</th>\n",
       "      <th>Importances</th>\n",
       "    </tr>\n",
       "  </thead>\n",
       "  <tbody>\n",
       "    <tr>\n",
       "      <th>1</th>\n",
       "      <td>Sex</td>\n",
       "      <td>0.260160</td>\n",
       "    </tr>\n",
       "    <tr>\n",
       "      <th>5</th>\n",
       "      <td>Fare</td>\n",
       "      <td>0.189957</td>\n",
       "    </tr>\n",
       "    <tr>\n",
       "      <th>7</th>\n",
       "      <td>Random_num</td>\n",
       "      <td>0.165408</td>\n",
       "    </tr>\n",
       "    <tr>\n",
       "      <th>2</th>\n",
       "      <td>Age</td>\n",
       "      <td>0.157964</td>\n",
       "    </tr>\n",
       "    <tr>\n",
       "      <th>0</th>\n",
       "      <td>Pclass</td>\n",
       "      <td>0.080377</td>\n",
       "    </tr>\n",
       "    <tr>\n",
       "      <th>8</th>\n",
       "      <td>Random_cat</td>\n",
       "      <td>0.042648</td>\n",
       "    </tr>\n",
       "    <tr>\n",
       "      <th>3</th>\n",
       "      <td>SibSp</td>\n",
       "      <td>0.039472</td>\n",
       "    </tr>\n",
       "    <tr>\n",
       "      <th>6</th>\n",
       "      <td>Embarked</td>\n",
       "      <td>0.033678</td>\n",
       "    </tr>\n",
       "    <tr>\n",
       "      <th>4</th>\n",
       "      <td>Parch</td>\n",
       "      <td>0.030337</td>\n",
       "    </tr>\n",
       "  </tbody>\n",
       "</table>\n",
       "</div>"
      ],
      "text/plain": [
       "     Features  Importances\n",
       "1         Sex     0.260160\n",
       "5        Fare     0.189957\n",
       "7  Random_num     0.165408\n",
       "2         Age     0.157964\n",
       "0      Pclass     0.080377\n",
       "8  Random_cat     0.042648\n",
       "3       SibSp     0.039472\n",
       "6    Embarked     0.033678\n",
       "4       Parch     0.030337"
      ]
     },
     "execution_count": 17,
     "metadata": {},
     "output_type": "execute_result"
    }
   ],
   "source": [
    "rf_imp = pd.DataFrame({'Features': X_train.columns, \n",
    "                       'Importances': forest_clf.feature_importances_}).sort_values(by = 'Importances', ascending = False)\n",
    "rf_imp"
   ]
  },
  {
   "cell_type": "code",
   "execution_count": 54,
   "id": "fbc89b28",
   "metadata": {},
   "outputs": [
    {
     "data": {
      "image/png": "[encoded data removed]",
      "text/plain": [
       "<Figure size 720x432 with 1 Axes>"
      ]
     },
     "metadata": {},
     "output_type": "display_data"
    }
   ],
   "source": [
    "sb.set_theme()\n",
    "sb.set_palette('bright')\n",
    "plt.figure(figsize = (10, 6))\n",
    "sb.barplot(data = rf_imp, x = 'Importances', y = 'Features')\n",
    "plt.title(\"Feature Importances (train set)\");"
   ]
  },
  {
   "cell_type": "code",
   "execution_count": 49,
   "id": "0a767c5b",
   "metadata": {},
   "outputs": [],
   "source": [
    "from sklearn.inspection import permutation_importance\n",
    "\n",
    "result = permutation_importance(forest_clf, X_test, y_test, n_repeats = 10, random_state = 42)"
   ]
  },
  {
   "cell_type": "code",
   "execution_count": 50,
   "id": "69dc79ad",
   "metadata": {},
   "outputs": [
    {
     "data": {
      "text/plain": [
       "array([6, 3, 8, 7, 4, 5, 2, 0, 1])"
      ]
     },
     "execution_count": 50,
     "metadata": {},
     "output_type": "execute_result"
    }
   ],
   "source": [
    "imp_order = result.importances_mean.argsort()\n",
    "imp_order"
   ]
  },
  {
   "cell_type": "code",
   "execution_count": 51,
   "id": "5fa53cd8",
   "metadata": {},
   "outputs": [
    {
     "data": {
      "text/html": [
       "<div>\n",
       "<style scoped>\n",
       "    .dataframe tbody tr th:only-of-type {\n",
       "        vertical-align: middle;\n",
       "    }\n",
       "\n",
       "    .dataframe tbody tr th {\n",
       "        vertical-align: top;\n",
       "    }\n",
       "\n",
       "    .dataframe thead th {\n",
       "        text-align: right;\n",
       "    }\n",
       "</style>\n",
       "<table border=\"1\" class=\"dataframe\">\n",
       "  <thead>\n",
       "    <tr style=\"text-align: right;\">\n",
       "      <th></th>\n",
       "      <th>Embarked</th>\n",
       "      <th>SibSp</th>\n",
       "      <th>Random_cat</th>\n",
       "      <th>Random_num</th>\n",
       "      <th>Parch</th>\n",
       "      <th>Fare</th>\n",
       "      <th>Age</th>\n",
       "      <th>Pclass</th>\n",
       "      <th>Sex</th>\n",
       "    </tr>\n",
       "  </thead>\n",
       "  <tbody>\n",
       "    <tr>\n",
       "      <th>0</th>\n",
       "      <td>-0.005618</td>\n",
       "      <td>0.005618</td>\n",
       "      <td>0.022472</td>\n",
       "      <td>0.016854</td>\n",
       "      <td>0.011236</td>\n",
       "      <td>0.044944</td>\n",
       "      <td>0.106742</td>\n",
       "      <td>0.073034</td>\n",
       "      <td>0.168539</td>\n",
       "    </tr>\n",
       "    <tr>\n",
       "      <th>1</th>\n",
       "      <td>0.000000</td>\n",
       "      <td>-0.011236</td>\n",
       "      <td>-0.016854</td>\n",
       "      <td>0.000000</td>\n",
       "      <td>0.028090</td>\n",
       "      <td>0.033708</td>\n",
       "      <td>0.061798</td>\n",
       "      <td>0.073034</td>\n",
       "      <td>0.219101</td>\n",
       "    </tr>\n",
       "    <tr>\n",
       "      <th>2</th>\n",
       "      <td>0.000000</td>\n",
       "      <td>-0.005618</td>\n",
       "      <td>0.000000</td>\n",
       "      <td>0.050562</td>\n",
       "      <td>0.011236</td>\n",
       "      <td>0.033708</td>\n",
       "      <td>0.078652</td>\n",
       "      <td>0.084270</td>\n",
       "      <td>0.179775</td>\n",
       "    </tr>\n",
       "    <tr>\n",
       "      <th>3</th>\n",
       "      <td>-0.011236</td>\n",
       "      <td>0.005618</td>\n",
       "      <td>0.005618</td>\n",
       "      <td>-0.016854</td>\n",
       "      <td>0.016854</td>\n",
       "      <td>0.044944</td>\n",
       "      <td>0.089888</td>\n",
       "      <td>0.067416</td>\n",
       "      <td>0.162921</td>\n",
       "    </tr>\n",
       "    <tr>\n",
       "      <th>4</th>\n",
       "      <td>0.005618</td>\n",
       "      <td>-0.005618</td>\n",
       "      <td>0.005618</td>\n",
       "      <td>-0.005618</td>\n",
       "      <td>0.011236</td>\n",
       "      <td>0.016854</td>\n",
       "      <td>0.067416</td>\n",
       "      <td>0.106742</td>\n",
       "      <td>0.146067</td>\n",
       "    </tr>\n",
       "    <tr>\n",
       "      <th>5</th>\n",
       "      <td>-0.016854</td>\n",
       "      <td>0.016854</td>\n",
       "      <td>0.000000</td>\n",
       "      <td>0.011236</td>\n",
       "      <td>0.005618</td>\n",
       "      <td>0.033708</td>\n",
       "      <td>0.039326</td>\n",
       "      <td>0.084270</td>\n",
       "      <td>0.213483</td>\n",
       "    </tr>\n",
       "    <tr>\n",
       "      <th>6</th>\n",
       "      <td>0.000000</td>\n",
       "      <td>-0.016854</td>\n",
       "      <td>0.000000</td>\n",
       "      <td>0.005618</td>\n",
       "      <td>0.016854</td>\n",
       "      <td>0.044944</td>\n",
       "      <td>0.078652</td>\n",
       "      <td>0.089888</td>\n",
       "      <td>0.174157</td>\n",
       "    </tr>\n",
       "    <tr>\n",
       "      <th>7</th>\n",
       "      <td>-0.011236</td>\n",
       "      <td>0.000000</td>\n",
       "      <td>-0.005618</td>\n",
       "      <td>0.011236</td>\n",
       "      <td>0.016854</td>\n",
       "      <td>0.011236</td>\n",
       "      <td>0.095506</td>\n",
       "      <td>0.067416</td>\n",
       "      <td>0.146067</td>\n",
       "    </tr>\n",
       "    <tr>\n",
       "      <th>8</th>\n",
       "      <td>0.000000</td>\n",
       "      <td>0.005618</td>\n",
       "      <td>0.016854</td>\n",
       "      <td>0.016854</td>\n",
       "      <td>0.011236</td>\n",
       "      <td>0.050562</td>\n",
       "      <td>0.067416</td>\n",
       "      <td>0.089888</td>\n",
       "      <td>0.213483</td>\n",
       "    </tr>\n",
       "    <tr>\n",
       "      <th>9</th>\n",
       "      <td>-0.005618</td>\n",
       "      <td>0.005618</td>\n",
       "      <td>0.022472</td>\n",
       "      <td>0.022472</td>\n",
       "      <td>0.016854</td>\n",
       "      <td>0.044944</td>\n",
       "      <td>0.067416</td>\n",
       "      <td>0.089888</td>\n",
       "      <td>0.151685</td>\n",
       "    </tr>\n",
       "  </tbody>\n",
       "</table>\n",
       "</div>"
      ],
      "text/plain": [
       "   Embarked     SibSp  Random_cat  Random_num     Parch      Fare       Age  \\\n",
       "0 -0.005618  0.005618    0.022472    0.016854  0.011236  0.044944  0.106742   \n",
       "1  0.000000 -0.011236   -0.016854    0.000000  0.028090  0.033708  0.061798   \n",
       "2  0.000000 -0.005618    0.000000    0.050562  0.011236  0.033708  0.078652   \n",
       "3 -0.011236  0.005618    0.005618   -0.016854  0.016854  0.044944  0.089888   \n",
       "4  0.005618 -0.005618    0.005618   -0.005618  0.011236  0.016854  0.067416   \n",
       "5 -0.016854  0.016854    0.000000    0.011236  0.005618  0.033708  0.039326   \n",
       "6  0.000000 -0.016854    0.000000    0.005618  0.016854  0.044944  0.078652   \n",
       "7 -0.011236  0.000000   -0.005618    0.011236  0.016854  0.011236  0.095506   \n",
       "8  0.000000  0.005618    0.016854    0.016854  0.011236  0.050562  0.067416   \n",
       "9 -0.005618  0.005618    0.022472    0.022472  0.016854  0.044944  0.067416   \n",
       "\n",
       "     Pclass       Sex  \n",
       "0  0.073034  0.168539  \n",
       "1  0.073034  0.219101  \n",
       "2  0.084270  0.179775  \n",
       "3  0.067416  0.162921  \n",
       "4  0.106742  0.146067  \n",
       "5  0.084270  0.213483  \n",
       "6  0.089888  0.174157  \n",
       "7  0.067416  0.146067  \n",
       "8  0.089888  0.213483  \n",
       "9  0.089888  0.151685  "
      ]
     },
     "execution_count": 51,
     "metadata": {},
     "output_type": "execute_result"
    }
   ],
   "source": [
    "importances = pd.DataFrame(\n",
    "    result.importances[imp_order].T,\n",
    "    columns=X.columns[imp_order],)\n",
    "importances"
   ]
  },
  {
   "cell_type": "code",
   "execution_count": 52,
   "id": "6865c210",
   "metadata": {},
   "outputs": [
    {
     "data": {
      "image/png": "[encoded data removed]",
      "text/plain": [
       "<Figure size 432x288 with 1 Axes>"
      ]
     },
     "metadata": {},
     "output_type": "display_data"
    }
   ],
   "source": [
    "ax = importances.plot.box(vert=False, whis=10)\n",
    "ax.set_title(\"Permutation Importances (test set)\")\n",
    "ax.axvline(x=0, color=\"k\", linestyle=\"--\")\n",
    "ax.set_xlabel(\"Decrease in accuracy score\");\n",
    "ax.figure.tight_layout()"
   ]
  },
  {
   "cell_type": "code",
   "execution_count": 53,
   "id": "2498a9c8",
   "metadata": {},
   "outputs": [
    {
     "data": {
      "image/png": "[encoded data removed]",
      "text/plain": [
       "<Figure size 720x432 with 1 Axes>"
      ]
     },
     "metadata": {},
     "output_type": "display_data"
    }
   ],
   "source": [
    "sb.set_palette('bright')\n",
    "plt.figure(figsize = (10, 6))\n",
    "ax = sb.boxplot(data = importances[importances.columns[::-1]], orient = 'h')\n",
    "ax.set_title(\"Permutation Importances (test set)\")\n",
    "ax.axvline(x=0, color=\"k\", linestyle=\"--\")\n",
    "ax.set_xlabel(\"Decrease in accuracy score\");\n",
    "ax.figure.tight_layout()"
   ]
  },
  {
   "cell_type": "code",
   "execution_count": 24,
   "id": "54beafe4",
   "metadata": {},
   "outputs": [
    {
     "data": {
      "text/plain": [
       "0.17752808988764046"
      ]
     },
     "execution_count": 24,
     "metadata": {},
     "output_type": "execute_result"
    }
   ],
   "source": [
    "importances['Sex'].mean()"
   ]
  },
  {
   "cell_type": "code",
   "execution_count": 25,
   "id": "183814df",
   "metadata": {},
   "outputs": [
    {
     "data": {
      "text/plain": [
       "{'importances_mean': array([ 8.25842697e-02,  1.77528090e-01,  7.52808989e-02,  1.11022302e-17,\n",
       "         1.46067416e-02,  3.59550562e-02, -4.49438202e-03,  1.12359551e-02,\n",
       "         5.05617978e-03]),\n",
       " 'importances_std': array([0.01179775, 0.02696629, 0.01815224, 0.00940067, 0.00572924,\n",
       "        0.01235955, 0.00655163, 0.01722439, 0.01190428]),\n",
       " 'importances': array([[ 0.07303371,  0.07303371,  0.08426966,  0.06741573,  0.10674157,\n",
       "          0.08426966,  0.08988764,  0.06741573,  0.08988764,  0.08988764],\n",
       "        [ 0.16853933,  0.21910112,  0.17977528,  0.16292135,  0.14606742,\n",
       "          0.21348315,  0.1741573 ,  0.14606742,  0.21348315,  0.15168539],\n",
       "        [ 0.10674157,  0.06179775,  0.07865169,  0.08988764,  0.06741573,\n",
       "          0.03932584,  0.07865169,  0.09550562,  0.06741573,  0.06741573],\n",
       "        [ 0.00561798, -0.01123596, -0.00561798,  0.00561798, -0.00561798,\n",
       "          0.01685393, -0.01685393,  0.        ,  0.00561798,  0.00561798],\n",
       "        [ 0.01123596,  0.02808989,  0.01123596,  0.01685393,  0.01123596,\n",
       "          0.00561798,  0.01685393,  0.01685393,  0.01123596,  0.01685393],\n",
       "        [ 0.04494382,  0.03370787,  0.03370787,  0.04494382,  0.01685393,\n",
       "          0.03370787,  0.04494382,  0.01123596,  0.0505618 ,  0.04494382],\n",
       "        [-0.00561798,  0.        ,  0.        , -0.01123596,  0.00561798,\n",
       "         -0.01685393,  0.        , -0.01123596,  0.        , -0.00561798],\n",
       "        [ 0.01685393,  0.        ,  0.0505618 , -0.01685393, -0.00561798,\n",
       "          0.01123596,  0.00561798,  0.01123596,  0.01685393,  0.02247191],\n",
       "        [ 0.02247191, -0.01685393,  0.        ,  0.00561798,  0.00561798,\n",
       "          0.        ,  0.        , -0.00561798,  0.01685393,  0.02247191]])}"
      ]
     },
     "execution_count": 25,
     "metadata": {},
     "output_type": "execute_result"
    }
   ],
   "source": [
    "result"
   ]
  },
  {
   "cell_type": "code",
   "execution_count": 26,
   "id": "579b775c",
   "metadata": {},
   "outputs": [
    {
     "data": {
      "text/plain": [
       "array([1, 0, 2, 5, 4, 7, 8, 3, 6])"
      ]
     },
     "execution_count": 26,
     "metadata": {},
     "output_type": "execute_result"
    }
   ],
   "source": [
    "imp_order = result.importances_mean.argsort()[::-1]\n",
    "imp_order"
   ]
  },
  {
   "cell_type": "code",
   "execution_count": 27,
   "id": "524e8e3d",
   "metadata": {},
   "outputs": [
    {
     "data": {
      "text/plain": [
       "9"
      ]
     },
     "execution_count": 27,
     "metadata": {},
     "output_type": "execute_result"
    }
   ],
   "source": [
    "toplimit = len(imp_order)\n",
    "toplimit"
   ]
  },
  {
   "cell_type": "code",
   "execution_count": 28,
   "id": "6040e041",
   "metadata": {},
   "outputs": [
    {
     "name": "stdout",
     "output_type": "stream",
     "text": [
      "1 Sex 0\n",
      "0 Pclass 1\n",
      "2 Age 2\n",
      "5 Fare 3\n",
      "4 Parch 4\n",
      "7 Random_num 5\n",
      "8 Random_cat 6\n",
      "3 SibSp 7\n",
      "6 Embarked 8\n"
     ]
    }
   ],
   "source": [
    "for i, _ in zip(imp_order, range(toplimit)):\n",
    "    name = X.columns[i]\n",
    "    print(i, name, _)"
   ]
  },
  {
   "cell_type": "code",
   "execution_count": 29,
   "id": "462fabc2",
   "metadata": {},
   "outputs": [
    {
     "name": "stdout",
     "output_type": "stream",
     "text": [
      "1 Sex 0.17752808988764046\n",
      "0 Pclass 0.08258426966292137\n",
      "2 Age 0.07528089887640452\n",
      "5 Fare 0.03595505617977528\n",
      "4 Parch 0.014606741573033743\n",
      "7 Random_num 0.011235955056179803\n",
      "8 Random_cat 0.005056179775280922\n",
      "3 SibSp 1.1102230246251566e-17\n",
      "6 Embarked -0.00449438202247191\n"
     ]
    }
   ],
   "source": [
    "for i, _ in zip(imp_order, np.sort(result.importances_mean)[::-1]):\n",
    "    name = X.columns[i]\n",
    "    print(i, name, _)"
   ]
  },
  {
   "cell_type": "code",
   "execution_count": 30,
   "id": "2b2b67d8",
   "metadata": {},
   "outputs": [
    {
     "name": "stdout",
     "output_type": "stream",
     "text": [
      "1 Sex\n",
      "0 Pclass\n",
      "2 Age\n",
      "5 Fare\n",
      "4 Parch\n",
      "7 Random_num\n",
      "8 Random_cat\n",
      "3 SibSp\n",
      "6 Embarked\n"
     ]
    }
   ],
   "source": [
    "for index in imp_order:\n",
    "    name = X.columns[index]\n",
    "    print(index, name)"
   ]
  },
  {
   "cell_type": "code",
   "execution_count": 31,
   "id": "dcd28372",
   "metadata": {},
   "outputs": [],
   "source": [
    "result_train = permutation_importance(forest_clf, X_train, y_train, n_repeats = 10, random_state = 42)"
   ]
  },
  {
   "cell_type": "code",
   "execution_count": 32,
   "id": "eb88e0ed",
   "metadata": {},
   "outputs": [
    {
     "data": {
      "text/plain": [
       "array([1, 0, 2, 5, 7, 8, 6, 3, 4])"
      ]
     },
     "execution_count": 32,
     "metadata": {},
     "output_type": "execute_result"
    }
   ],
   "source": [
    "imp_train = result_train.importances_mean.argsort()[::-1]\n",
    "imp_train"
   ]
  },
  {
   "cell_type": "code",
   "execution_count": 33,
   "id": "245951a2",
   "metadata": {},
   "outputs": [
    {
     "name": "stdout",
     "output_type": "stream",
     "text": [
      "1 Sex 0.26230661040787623\n",
      "0 Pclass 0.15218002812939524\n",
      "2 Age 0.11856540084388185\n",
      "5 Fare 0.11153305203938117\n",
      "7 Random_num 0.07862165963431786\n",
      "8 Random_cat 0.041350210970464166\n",
      "6 Embarked 0.036708860759493686\n",
      "3 SibSp 0.031504922644163144\n",
      "4 Parch 0.012798874824191253\n"
     ]
    }
   ],
   "source": [
    "demo = pd.DataFrame()\n",
    "for idx, value in zip(imp_train, np.sort(result_train.importances_mean)[::-1]):\n",
    "    name = X.columns[idx]\n",
    "    print(idx, name, value)\n",
    "    demo[name] = value"
   ]
  },
  {
   "cell_type": "code",
   "execution_count": 34,
   "id": "65c0f488",
   "metadata": {},
   "outputs": [
    {
     "data": {
      "text/html": [
       "<div>\n",
       "<style scoped>\n",
       "    .dataframe tbody tr th:only-of-type {\n",
       "        vertical-align: middle;\n",
       "    }\n",
       "\n",
       "    .dataframe tbody tr th {\n",
       "        vertical-align: top;\n",
       "    }\n",
       "\n",
       "    .dataframe thead th {\n",
       "        text-align: right;\n",
       "    }\n",
       "</style>\n",
       "<table border=\"1\" class=\"dataframe\">\n",
       "  <thead>\n",
       "    <tr style=\"text-align: right;\">\n",
       "      <th></th>\n",
       "      <th>Sex</th>\n",
       "      <th>Pclass</th>\n",
       "      <th>Age</th>\n",
       "      <th>Fare</th>\n",
       "      <th>Random_num</th>\n",
       "      <th>Random_cat</th>\n",
       "      <th>Embarked</th>\n",
       "      <th>SibSp</th>\n",
       "      <th>Parch</th>\n",
       "    </tr>\n",
       "  </thead>\n",
       "  <tbody>\n",
       "  </tbody>\n",
       "</table>\n",
       "</div>"
      ],
      "text/plain": [
       "Empty DataFrame\n",
       "Columns: [Sex, Pclass, Age, Fare, Random_num, Random_cat, Embarked, SibSp, Parch]\n",
       "Index: []"
      ]
     },
     "execution_count": 34,
     "metadata": {},
     "output_type": "execute_result"
    }
   ],
   "source": [
    "demo"
   ]
  },
  {
   "cell_type": "code",
   "execution_count": 35,
   "id": "05c66e9a",
   "metadata": {},
   "outputs": [
    {
     "data": {
      "text/html": [
       "<div>\n",
       "<style scoped>\n",
       "    .dataframe tbody tr th:only-of-type {\n",
       "        vertical-align: middle;\n",
       "    }\n",
       "\n",
       "    .dataframe tbody tr th {\n",
       "        vertical-align: top;\n",
       "    }\n",
       "\n",
       "    .dataframe thead th {\n",
       "        text-align: right;\n",
       "    }\n",
       "</style>\n",
       "<table border=\"1\" class=\"dataframe\">\n",
       "  <thead>\n",
       "    <tr style=\"text-align: right;\">\n",
       "      <th></th>\n",
       "      <th>Sex</th>\n",
       "      <th>Pclass</th>\n",
       "      <th>Age</th>\n",
       "      <th>Fare</th>\n",
       "      <th>Parch</th>\n",
       "      <th>Random_num</th>\n",
       "      <th>Random_cat</th>\n",
       "      <th>SibSp</th>\n",
       "      <th>Embarked</th>\n",
       "    </tr>\n",
       "  </thead>\n",
       "  <tbody>\n",
       "    <tr>\n",
       "      <th>0</th>\n",
       "      <td>0.168539</td>\n",
       "      <td>0.073034</td>\n",
       "      <td>0.106742</td>\n",
       "      <td>0.044944</td>\n",
       "      <td>0.011236</td>\n",
       "      <td>0.016854</td>\n",
       "      <td>0.022472</td>\n",
       "      <td>0.005618</td>\n",
       "      <td>-0.005618</td>\n",
       "    </tr>\n",
       "    <tr>\n",
       "      <th>1</th>\n",
       "      <td>0.219101</td>\n",
       "      <td>0.073034</td>\n",
       "      <td>0.061798</td>\n",
       "      <td>0.033708</td>\n",
       "      <td>0.028090</td>\n",
       "      <td>0.000000</td>\n",
       "      <td>-0.016854</td>\n",
       "      <td>-0.011236</td>\n",
       "      <td>0.000000</td>\n",
       "    </tr>\n",
       "    <tr>\n",
       "      <th>2</th>\n",
       "      <td>0.179775</td>\n",
       "      <td>0.084270</td>\n",
       "      <td>0.078652</td>\n",
       "      <td>0.033708</td>\n",
       "      <td>0.011236</td>\n",
       "      <td>0.050562</td>\n",
       "      <td>0.000000</td>\n",
       "      <td>-0.005618</td>\n",
       "      <td>0.000000</td>\n",
       "    </tr>\n",
       "    <tr>\n",
       "      <th>3</th>\n",
       "      <td>0.162921</td>\n",
       "      <td>0.067416</td>\n",
       "      <td>0.089888</td>\n",
       "      <td>0.044944</td>\n",
       "      <td>0.016854</td>\n",
       "      <td>-0.016854</td>\n",
       "      <td>0.005618</td>\n",
       "      <td>0.005618</td>\n",
       "      <td>-0.011236</td>\n",
       "    </tr>\n",
       "    <tr>\n",
       "      <th>4</th>\n",
       "      <td>0.146067</td>\n",
       "      <td>0.106742</td>\n",
       "      <td>0.067416</td>\n",
       "      <td>0.016854</td>\n",
       "      <td>0.011236</td>\n",
       "      <td>-0.005618</td>\n",
       "      <td>0.005618</td>\n",
       "      <td>-0.005618</td>\n",
       "      <td>0.005618</td>\n",
       "    </tr>\n",
       "    <tr>\n",
       "      <th>5</th>\n",
       "      <td>0.213483</td>\n",
       "      <td>0.084270</td>\n",
       "      <td>0.039326</td>\n",
       "      <td>0.033708</td>\n",
       "      <td>0.005618</td>\n",
       "      <td>0.011236</td>\n",
       "      <td>0.000000</td>\n",
       "      <td>0.016854</td>\n",
       "      <td>-0.016854</td>\n",
       "    </tr>\n",
       "    <tr>\n",
       "      <th>6</th>\n",
       "      <td>0.174157</td>\n",
       "      <td>0.089888</td>\n",
       "      <td>0.078652</td>\n",
       "      <td>0.044944</td>\n",
       "      <td>0.016854</td>\n",
       "      <td>0.005618</td>\n",
       "      <td>0.000000</td>\n",
       "      <td>-0.016854</td>\n",
       "      <td>0.000000</td>\n",
       "    </tr>\n",
       "    <tr>\n",
       "      <th>7</th>\n",
       "      <td>0.146067</td>\n",
       "      <td>0.067416</td>\n",
       "      <td>0.095506</td>\n",
       "      <td>0.011236</td>\n",
       "      <td>0.016854</td>\n",
       "      <td>0.011236</td>\n",
       "      <td>-0.005618</td>\n",
       "      <td>0.000000</td>\n",
       "      <td>-0.011236</td>\n",
       "    </tr>\n",
       "    <tr>\n",
       "      <th>8</th>\n",
       "      <td>0.213483</td>\n",
       "      <td>0.089888</td>\n",
       "      <td>0.067416</td>\n",
       "      <td>0.050562</td>\n",
       "      <td>0.011236</td>\n",
       "      <td>0.016854</td>\n",
       "      <td>0.016854</td>\n",
       "      <td>0.005618</td>\n",
       "      <td>0.000000</td>\n",
       "    </tr>\n",
       "    <tr>\n",
       "      <th>9</th>\n",
       "      <td>0.151685</td>\n",
       "      <td>0.089888</td>\n",
       "      <td>0.067416</td>\n",
       "      <td>0.044944</td>\n",
       "      <td>0.016854</td>\n",
       "      <td>0.022472</td>\n",
       "      <td>0.022472</td>\n",
       "      <td>0.005618</td>\n",
       "      <td>-0.005618</td>\n",
       "    </tr>\n",
       "  </tbody>\n",
       "</table>\n",
       "</div>"
      ],
      "text/plain": [
       "        Sex    Pclass       Age      Fare     Parch  Random_num  Random_cat  \\\n",
       "0  0.168539  0.073034  0.106742  0.044944  0.011236    0.016854    0.022472   \n",
       "1  0.219101  0.073034  0.061798  0.033708  0.028090    0.000000   -0.016854   \n",
       "2  0.179775  0.084270  0.078652  0.033708  0.011236    0.050562    0.000000   \n",
       "3  0.162921  0.067416  0.089888  0.044944  0.016854   -0.016854    0.005618   \n",
       "4  0.146067  0.106742  0.067416  0.016854  0.011236   -0.005618    0.005618   \n",
       "5  0.213483  0.084270  0.039326  0.033708  0.005618    0.011236    0.000000   \n",
       "6  0.174157  0.089888  0.078652  0.044944  0.016854    0.005618    0.000000   \n",
       "7  0.146067  0.067416  0.095506  0.011236  0.016854    0.011236   -0.005618   \n",
       "8  0.213483  0.089888  0.067416  0.050562  0.011236    0.016854    0.016854   \n",
       "9  0.151685  0.089888  0.067416  0.044944  0.016854    0.022472    0.022472   \n",
       "\n",
       "      SibSp  Embarked  \n",
       "0  0.005618 -0.005618  \n",
       "1 -0.011236  0.000000  \n",
       "2 -0.005618  0.000000  \n",
       "3  0.005618 -0.011236  \n",
       "4 -0.005618  0.005618  \n",
       "5  0.016854 -0.016854  \n",
       "6 -0.016854  0.000000  \n",
       "7  0.000000 -0.011236  \n",
       "8  0.005618  0.000000  \n",
       "9  0.005618 -0.005618  "
      ]
     },
     "execution_count": 35,
     "metadata": {},
     "output_type": "execute_result"
    }
   ],
   "source": [
    "importances = pd.DataFrame(\n",
    "    result.importances[imp_order].T,\n",
    "    columns=X.columns[imp_order],)\n",
    "importances"
   ]
  },
  {
   "cell_type": "code",
   "execution_count": 36,
   "id": "03a89ea4",
   "metadata": {},
   "outputs": [
    {
     "data": {
      "text/plain": [
       "(10, 9)"
      ]
     },
     "execution_count": 36,
     "metadata": {},
     "output_type": "execute_result"
    }
   ],
   "source": [
    "result_train.importances[imp_train].T.shape"
   ]
  },
  {
   "cell_type": "code",
   "execution_count": 37,
   "id": "706fe047",
   "metadata": {},
   "outputs": [
    {
     "data": {
      "text/html": [
       "<div>\n",
       "<style scoped>\n",
       "    .dataframe tbody tr th:only-of-type {\n",
       "        vertical-align: middle;\n",
       "    }\n",
       "\n",
       "    .dataframe tbody tr th {\n",
       "        vertical-align: top;\n",
       "    }\n",
       "\n",
       "    .dataframe thead th {\n",
       "        text-align: right;\n",
       "    }\n",
       "</style>\n",
       "<table border=\"1\" class=\"dataframe\">\n",
       "  <thead>\n",
       "    <tr style=\"text-align: right;\">\n",
       "      <th></th>\n",
       "      <th>Sex</th>\n",
       "      <th>Pclass</th>\n",
       "      <th>Age</th>\n",
       "      <th>Fare</th>\n",
       "      <th>Random_num</th>\n",
       "      <th>Random_cat</th>\n",
       "      <th>Embarked</th>\n",
       "      <th>SibSp</th>\n",
       "      <th>Parch</th>\n",
       "    </tr>\n",
       "  </thead>\n",
       "  <tbody>\n",
       "    <tr>\n",
       "      <th>0</th>\n",
       "      <td>0.254571</td>\n",
       "      <td>0.154712</td>\n",
       "      <td>0.130802</td>\n",
       "      <td>0.120956</td>\n",
       "      <td>0.082982</td>\n",
       "      <td>0.045007</td>\n",
       "      <td>0.039381</td>\n",
       "      <td>0.023910</td>\n",
       "      <td>0.012658</td>\n",
       "    </tr>\n",
       "    <tr>\n",
       "      <th>1</th>\n",
       "      <td>0.278481</td>\n",
       "      <td>0.157525</td>\n",
       "      <td>0.113924</td>\n",
       "      <td>0.104079</td>\n",
       "      <td>0.075949</td>\n",
       "      <td>0.047820</td>\n",
       "      <td>0.035162</td>\n",
       "      <td>0.023910</td>\n",
       "      <td>0.015471</td>\n",
       "    </tr>\n",
       "    <tr>\n",
       "      <th>2</th>\n",
       "      <td>0.248945</td>\n",
       "      <td>0.163150</td>\n",
       "      <td>0.127989</td>\n",
       "      <td>0.102672</td>\n",
       "      <td>0.074543</td>\n",
       "      <td>0.030942</td>\n",
       "      <td>0.036568</td>\n",
       "      <td>0.039381</td>\n",
       "      <td>0.014065</td>\n",
       "    </tr>\n",
       "    <tr>\n",
       "      <th>3</th>\n",
       "      <td>0.261603</td>\n",
       "      <td>0.142053</td>\n",
       "      <td>0.098453</td>\n",
       "      <td>0.111111</td>\n",
       "      <td>0.085795</td>\n",
       "      <td>0.039381</td>\n",
       "      <td>0.042194</td>\n",
       "      <td>0.032349</td>\n",
       "      <td>0.018284</td>\n",
       "    </tr>\n",
       "    <tr>\n",
       "      <th>4</th>\n",
       "      <td>0.265823</td>\n",
       "      <td>0.137834</td>\n",
       "      <td>0.106892</td>\n",
       "      <td>0.108298</td>\n",
       "      <td>0.070323</td>\n",
       "      <td>0.030942</td>\n",
       "      <td>0.033755</td>\n",
       "      <td>0.039381</td>\n",
       "      <td>0.012658</td>\n",
       "    </tr>\n",
       "    <tr>\n",
       "      <th>5</th>\n",
       "      <td>0.270042</td>\n",
       "      <td>0.158931</td>\n",
       "      <td>0.116737</td>\n",
       "      <td>0.111111</td>\n",
       "      <td>0.075949</td>\n",
       "      <td>0.040788</td>\n",
       "      <td>0.032349</td>\n",
       "      <td>0.037975</td>\n",
       "      <td>0.012658</td>\n",
       "    </tr>\n",
       "    <tr>\n",
       "      <th>6</th>\n",
       "      <td>0.257384</td>\n",
       "      <td>0.157525</td>\n",
       "      <td>0.135021</td>\n",
       "      <td>0.115331</td>\n",
       "      <td>0.078762</td>\n",
       "      <td>0.045007</td>\n",
       "      <td>0.037975</td>\n",
       "      <td>0.030942</td>\n",
       "      <td>0.009845</td>\n",
       "    </tr>\n",
       "    <tr>\n",
       "      <th>7</th>\n",
       "      <td>0.251758</td>\n",
       "      <td>0.144866</td>\n",
       "      <td>0.112518</td>\n",
       "      <td>0.115331</td>\n",
       "      <td>0.082982</td>\n",
       "      <td>0.042194</td>\n",
       "      <td>0.039381</td>\n",
       "      <td>0.026723</td>\n",
       "      <td>0.007032</td>\n",
       "    </tr>\n",
       "    <tr>\n",
       "      <th>8</th>\n",
       "      <td>0.264416</td>\n",
       "      <td>0.165963</td>\n",
       "      <td>0.125176</td>\n",
       "      <td>0.118143</td>\n",
       "      <td>0.080169</td>\n",
       "      <td>0.045007</td>\n",
       "      <td>0.036568</td>\n",
       "      <td>0.028129</td>\n",
       "      <td>0.014065</td>\n",
       "    </tr>\n",
       "    <tr>\n",
       "      <th>9</th>\n",
       "      <td>0.270042</td>\n",
       "      <td>0.139241</td>\n",
       "      <td>0.118143</td>\n",
       "      <td>0.108298</td>\n",
       "      <td>0.078762</td>\n",
       "      <td>0.046414</td>\n",
       "      <td>0.033755</td>\n",
       "      <td>0.032349</td>\n",
       "      <td>0.011252</td>\n",
       "    </tr>\n",
       "  </tbody>\n",
       "</table>\n",
       "</div>"
      ],
      "text/plain": [
       "        Sex    Pclass       Age      Fare  Random_num  Random_cat  Embarked  \\\n",
       "0  0.254571  0.154712  0.130802  0.120956    0.082982    0.045007  0.039381   \n",
       "1  0.278481  0.157525  0.113924  0.104079    0.075949    0.047820  0.035162   \n",
       "2  0.248945  0.163150  0.127989  0.102672    0.074543    0.030942  0.036568   \n",
       "3  0.261603  0.142053  0.098453  0.111111    0.085795    0.039381  0.042194   \n",
       "4  0.265823  0.137834  0.106892  0.108298    0.070323    0.030942  0.033755   \n",
       "5  0.270042  0.158931  0.116737  0.111111    0.075949    0.040788  0.032349   \n",
       "6  0.257384  0.157525  0.135021  0.115331    0.078762    0.045007  0.037975   \n",
       "7  0.251758  0.144866  0.112518  0.115331    0.082982    0.042194  0.039381   \n",
       "8  0.264416  0.165963  0.125176  0.118143    0.080169    0.045007  0.036568   \n",
       "9  0.270042  0.139241  0.118143  0.108298    0.078762    0.046414  0.033755   \n",
       "\n",
       "      SibSp     Parch  \n",
       "0  0.023910  0.012658  \n",
       "1  0.023910  0.015471  \n",
       "2  0.039381  0.014065  \n",
       "3  0.032349  0.018284  \n",
       "4  0.039381  0.012658  \n",
       "5  0.037975  0.012658  \n",
       "6  0.030942  0.009845  \n",
       "7  0.026723  0.007032  \n",
       "8  0.028129  0.014065  \n",
       "9  0.032349  0.011252  "
      ]
     },
     "execution_count": 37,
     "metadata": {},
     "output_type": "execute_result"
    }
   ],
   "source": [
    "demo1 = pd.DataFrame(result_train.importances[imp_train].T,\n",
    "                     columns = X.columns[imp_train])\n",
    "demo1"
   ]
  },
  {
   "cell_type": "code",
   "execution_count": 38,
   "id": "0813e91b",
   "metadata": {},
   "outputs": [
    {
     "data": {
      "text/plain": [
       "0.26230661040787623"
      ]
     },
     "execution_count": 38,
     "metadata": {},
     "output_type": "execute_result"
    }
   ],
   "source": [
    "demo1['Sex'].mean()"
   ]
  },
  {
   "cell_type": "code",
   "execution_count": 39,
   "id": "87323d62",
   "metadata": {},
   "outputs": [
    {
     "data": {
      "image/png": "[encoded data removed]",
      "text/plain": [
       "<Figure size 720x432 with 1 Axes>"
      ]
     },
     "metadata": {},
     "output_type": "display_data"
    }
   ],
   "source": [
    "sb.set_palette('bright')\n",
    "plt.figure(figsize = (10, 6))\n",
    "ax = sb.boxplot(data = demo1, orient = 'h')\n",
    "ax.axvline(x = 0, color = 'k', linestyle = '--')\n",
    "ax.set_title('Permutation Importance (train set)')\n",
    "ax.set_xlabel('Decrease of accuracy score')\n",
    "ax.figure.tight_layout();"
   ]
  },
  {
   "cell_type": "code",
   "execution_count": 40,
   "id": "93dbdd88",
   "metadata": {},
   "outputs": [
    {
     "data": {
      "text/plain": [
       "1.0"
      ]
     },
     "execution_count": 40,
     "metadata": {},
     "output_type": "execute_result"
    }
   ],
   "source": [
    "import xgboost as xgb\n",
    "\n",
    "xgbs = xgb.XGBClassifier(random_state = 42, max_depth = 15, )\n",
    "xgb_clf = xgbs.fit(X_train, y_train)\n",
    "\n",
    "xgb_clf.score(X_train, y_train)"
   ]
  },
  {
   "cell_type": "code",
   "execution_count": 41,
   "id": "a936cc6a",
   "metadata": {},
   "outputs": [
    {
     "name": "stdout",
     "output_type": "stream",
     "text": [
      "----- CLASSIFICATION MODEL PREFOMANCE IN TEST SET-----\n",
      "* R-squared model of Test: 0.8371\n",
      "\n",
      "* Confusion Matrix of Test: \n",
      "[[97 13]\n",
      " [16 52]]\n",
      "\n",
      "* Classification Report of Test: \n",
      "              precision    recall  f1-score   support\n",
      "\n",
      "           0       0.86      0.88      0.87       110\n",
      "           1       0.80      0.76      0.78        68\n",
      "\n",
      "    accuracy                           0.84       178\n",
      "   macro avg       0.83      0.82      0.83       178\n",
      "weighted avg       0.84      0.84      0.84       178\n",
      "\n"
     ]
    }
   ],
   "source": [
    "fc.eval_clf_testset(xgb_clf, X_test, y_test)"
   ]
  },
  {
   "cell_type": "code",
   "execution_count": 42,
   "id": "b4c66f6e",
   "metadata": {},
   "outputs": [
    {
     "data": {
      "text/plain": [
       "0.8874824191279888"
      ]
     },
     "execution_count": 42,
     "metadata": {},
     "output_type": "execute_result"
    }
   ],
   "source": [
    "import lightgbm as lgbm\n",
    "\n",
    "lgb = lgbm.LGBMClassifier(random_state = 42, num_leaves = 5)\n",
    "lgb_clf = lgb.fit(X_train, y_train)\n",
    "\n",
    "lgb_clf.score(X_train, y_train)"
   ]
  },
  {
   "cell_type": "code",
   "execution_count": 43,
   "id": "7a5bca26",
   "metadata": {},
   "outputs": [
    {
     "name": "stdout",
     "output_type": "stream",
     "text": [
      "----- CLASSIFICATION MODEL PREFOMANCE IN TEST SET-----\n",
      "* R-squared model of Test: 0.8315\n",
      "\n",
      "* Confusion Matrix of Test: \n",
      "[[101   9]\n",
      " [ 21  47]]\n",
      "\n",
      "* Classification Report of Test: \n",
      "              precision    recall  f1-score   support\n",
      "\n",
      "           0       0.83      0.92      0.87       110\n",
      "           1       0.84      0.69      0.76        68\n",
      "\n",
      "    accuracy                           0.83       178\n",
      "   macro avg       0.83      0.80      0.81       178\n",
      "weighted avg       0.83      0.83      0.83       178\n",
      "\n"
     ]
    }
   ],
   "source": [
    "fc.eval_clf_testset(lgb_clf, X_test, y_test)"
   ]
  },
  {
   "cell_type": "code",
   "execution_count": null,
   "id": "6ebcd517",
   "metadata": {},
   "outputs": [],
   "source": []
  }
 ],
 "metadata": {
  "kernelspec": {
   "display_name": "Python 3 (ipykernel)",
   "language": "python",
   "name": "python3"
  },
  "language_info": {
   "codemirror_mode": {
    "name": "ipython",
    "version": 3
   },
   "file_extension": ".py",
   "mimetype": "text/x-python",
   "name": "python",
   "nbconvert_exporter": "python",
   "pygments_lexer": "ipython3",
   "version": "3.8.10"
  }
 },
 "nbformat": 4,
 "nbformat_minor": 5
}
